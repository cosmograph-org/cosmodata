{
 "cells": [
  {
   "cell_type": "code",
   "execution_count": null,
   "metadata": {},
   "outputs": [],
   "source": []
  },
  {
   "cell_type": "code",
   "execution_count": 12,
   "metadata": {},
   "outputs": [],
   "source": [
    "from dol import TextFiles, filt_iter\n",
    "\n",
    "PyFiles = filt_iter.suffixes('.py')(TextFiles)\n"
   ]
  },
  {
   "cell_type": "code",
   "execution_count": 13,
   "metadata": {},
   "outputs": [
    {
     "data": {
      "text/plain": [
       "['pl_callbacks/__init__.py',\n",
       " 'pl_callbacks/pl_callback.py',\n",
       " 'tests/__init__.py',\n",
       " 'tests/test_atlas_client.py',\n",
       " '__init__.py',\n",
       " 'embedders.py',\n",
       " 'cli.py',\n",
       " 'utils.py',\n",
       " 'settings.py',\n",
       " 'atlas.py',\n",
       " 'project.py',\n",
       " 'data_operations.py',\n",
       " 'data_inference.py']"
      ]
     },
     "execution_count": 13,
     "metadata": {},
     "output_type": "execute_result"
    }
   ],
   "source": [
    "rootdir = '~/Dropbox/py/proj/others/nomic/nomic'\n",
    "\n",
    "s = PyFiles(rootdir)\n",
    "list(s)"
   ]
  },
  {
   "cell_type": "code",
   "execution_count": null,
   "metadata": {},
   "outputs": [],
   "source": [
    "\n",
    "# function that creates a single file from multiple ones\n",
    "def mk_content_aggregate(\n",
    "    s, \n",
    "    section_header=lambda k: '#' + '-' * 80 + '\\n' + f'# {k}' + '\\n#' + '-' * 80 + '\\n',\n",
    "    section_footer=lambda k: '',\n",
    "):\n",
    "    \"\"\"\n",
    "    Aggregate the contents of a Mapping of strings into a single string.\n",
    "    \"\"\"\n",
    "    def gen():\n",
    "        for k in sorted(s, key=len):\n",
    "            yield section_header(k)\n",
    "            yield s[k]\n",
    "            yield section_footer(k)\n",
    "    return ''.join(gen())\n",
    "\n",
    "\n",
    "target_store = TextFiles('~/Downloads')\n",
    "target_store['nomic_code_aggregate.py'] = mk_content_aggregate(s)"
   ]
  },
  {
   "cell_type": "code",
   "execution_count": 3,
   "metadata": {},
   "outputs": [],
   "source": [
    "v = target_store['nomic_code_aggregate.py']"
   ]
  },
  {
   "cell_type": "code",
   "execution_count": 4,
   "metadata": {},
   "outputs": [
    {
     "data": {
      "text/plain": [
       "139053"
      ]
     },
     "execution_count": 4,
     "metadata": {},
     "output_type": "execute_result"
    }
   ],
   "source": [
    "sum(map(len, s.values()))"
   ]
  },
  {
   "cell_type": "code",
   "execution_count": null,
   "metadata": {},
   "outputs": [],
   "source": []
  },
  {
   "cell_type": "code",
   "execution_count": null,
   "metadata": {},
   "outputs": [],
   "source": []
  }
 ],
 "metadata": {
  "kernelspec": {
   "display_name": "Python 3",
   "language": "python",
   "name": "python3"
  },
  "language_info": {
   "codemirror_mode": {
    "name": "ipython",
    "version": 3
   },
   "file_extension": ".py",
   "mimetype": "text/x-python",
   "name": "python",
   "nbconvert_exporter": "python",
   "pygments_lexer": "ipython3",
   "version": "3.10.8"
  },
  "orig_nbformat": 4
 },
 "nbformat": 4,
 "nbformat_minor": 2
}
